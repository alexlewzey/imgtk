{
 "cells": [
  {
   "attachments": {},
   "cell_type": "markdown",
   "metadata": {},
   "source": [
    "# imgtk\n",
    "\n",
    "> Tools to manipulate images"
   ]
  },
  {
   "cell_type": "code",
   "execution_count": null,
   "metadata": {},
   "outputs": [],
   "source": [
    "# | default_exp imgtk"
   ]
  },
  {
   "cell_type": "code",
   "execution_count": null,
   "metadata": {},
   "outputs": [],
   "source": [
    "# | hide\n",
    "from nbdev.showdoc import *"
   ]
  },
  {
   "cell_type": "code",
   "execution_count": null,
   "metadata": {},
   "outputs": [],
   "source": [
    "# | export\n",
    "from itertools import product\n",
    "from pathlib import Path\n",
    "from typing import *\n",
    "\n",
    "import matplotlib.pyplot as plt\n",
    "import pandas as pd\n",
    "import pyautogui\n",
    "import pyperclip\n",
    "from fastcore.test import *\n",
    "import fire\n",
    "from matplotlib.image import imread\n",
    "from PIL import Image\n",
    "from pillow_heif import register_heif_opener"
   ]
  },
  {
   "cell_type": "code",
   "execution_count": null,
   "metadata": {},
   "outputs": [],
   "source": [
    "# | export\n",
    "register_heif_opener()"
   ]
  },
  {
   "cell_type": "code",
   "execution_count": null,
   "metadata": {},
   "outputs": [],
   "source": [
    "# | export\n",
    "\n",
    "\n",
    "def fmter(\n",
    "    src: Union[str, Path],  # source image path # fmt: skip\n",
    "    fmt: str = \"png\",  # target image format # fmt: skip\n",
    ") -> None:\n",
    "    \"\"\"Convert image format\"\"\"\n",
    "    src = Path(src)\n",
    "    trg = src.parent / f\"{src.stem}.{fmt}\"\n",
    "    Image.open(src).save(trg)"
   ]
  },
  {
   "cell_type": "markdown",
   "metadata": {},
   "source": [
    "Test file is created by `fmter`"
   ]
  },
  {
   "cell_type": "code",
   "execution_count": null,
   "metadata": {},
   "outputs": [],
   "source": [
    "dir_img = Path(\"images\").absolute()\n",
    "if (dir_img / \"mole.png\").exists():\n",
    "    (dir_img / \"mole.png\").unlink()\n",
    "fmter(dir_img / \"mole.jpg\", \"png\")\n",
    "test_eq((dir_img / \"mole.png\").exists(), True)"
   ]
  },
  {
   "cell_type": "markdown",
   "metadata": {},
   "source": [
    "Test saved image has the same size as the original one"
   ]
  },
  {
   "cell_type": "code",
   "execution_count": null,
   "metadata": {},
   "outputs": [],
   "source": [
    "test_eq(imread(dir_img / \"mole.jpg\").shape, imread(dir_img / \"mole.png\").shape)"
   ]
  },
  {
   "cell_type": "code",
   "execution_count": null,
   "metadata": {},
   "outputs": [],
   "source": [
    "# | export\n",
    "\n",
    "\n",
    "def recolor(\n",
    "    src: str,  # source image path\n",
    "    trg: str,  # target image path\n",
    "    color: tuple[int, int, int],  # color to recolor to\n",
    ") -> None:\n",
    "    \"\"\"Recolor image except pixels with alpha=0\"\"\"\n",
    "    src, trg = Path(src), Path(trg)\n",
    "    img = Image.open(src)\n",
    "    width, height = img.size\n",
    "    for x in range(width):\n",
    "        for y in range(height):\n",
    "            rgba = img.getpixel((x, y))\n",
    "            if rgba[-1] != 0:\n",
    "                img.putpixel((x, y), color)\n",
    "    img.save(trg)"
   ]
  },
  {
   "attachments": {},
   "cell_type": "markdown",
   "metadata": {},
   "source": [
    "Test file is created by `recolor`"
   ]
  },
  {
   "cell_type": "code",
   "execution_count": null,
   "metadata": {},
   "outputs": [],
   "source": [
    "rgb = (0, 0, 255)\n",
    "blue_png = dir_img / \"mole-blue.png\"\n",
    "if blue_png.exists():\n",
    "    blue_png.unlink()\n",
    "recolor(dir_img / \"mole-no-background.png\", blue_png, rgb)\n",
    "test_eq(blue_png.exists(), True)"
   ]
  },
  {
   "attachments": {},
   "cell_type": "markdown",
   "metadata": {},
   "source": [
    "Test `rgb` is equal to the most common pixel color in the target image."
   ]
  },
  {
   "cell_type": "code",
   "execution_count": null,
   "metadata": {},
   "outputs": [],
   "source": [
    "img = Image.open(blue_png)\n",
    "pixels = [img.getpixel((i, j)) for i, j in product(*map(range, img.size))]\n",
    "pixel = pd.Series(pixels).value_counts().index[0][:3]\n",
    "test_eq(pixel, (0, 0, 255))"
   ]
  },
  {
   "cell_type": "code",
   "execution_count": null,
   "metadata": {},
   "outputs": [],
   "source": [
    "# | export\n",
    "# | hide\n",
    "\n",
    "\n",
    "def pixel_rgb() -> Tuple[int, int, int]:\n",
    "    \"\"\"Return the rgb of current mouse cursor position.\"\"\"\n",
    "    return tuple(pyautogui.pixel(*pyautogui.position()))\n",
    "\n",
    "\n",
    "def rgb2hex(r: int, g: int, b: int) -> str:\n",
    "    return f\"#{r:02X}{g:02X}{b:02X}\"\n",
    "\n",
    "\n",
    "def pixel_hex():\n",
    "    \"\"\"Return the hex of current mouse cursor position.\"\"\"\n",
    "    return rgb2hex(*pixel_rgb())"
   ]
  },
  {
   "cell_type": "code",
   "execution_count": null,
   "metadata": {},
   "outputs": [],
   "source": [
    "# | export\n",
    "def pixel_color(\n",
    "    fmt: str = \"rgb\",  # format of retured color (rgb or hex) # fmt: skip\n",
    ") -> None:\n",
    "    \"\"\"Add the color of current mouse cursor position to the clipboard.\"\"\"\n",
    "    try:\n",
    "        color = {\"rgb\": pixel_rgb, \"hex\": pixel_hex}[fmt]()\n",
    "    except KeyError:\n",
    "        raise ValueError(f\"invalid format: {fmt}\")\n",
    "    pyperclip.copy(str(color))"
   ]
  },
  {
   "cell_type": "code",
   "execution_count": null,
   "metadata": {},
   "outputs": [],
   "source": [
    "test_eq(rgb2hex(*(24, 24, 24)), \"#181818\")\n",
    "# test_fail(lambda: pixel_color('wav'))"
   ]
  },
  {
   "cell_type": "code",
   "execution_count": null,
   "metadata": {},
   "outputs": [],
   "source": [
    "# | export\n",
    "def main():\n",
    "    fire.Fire({\"fmter\": fmter, \"pixel_color\": pixel_color, \"recolor\": recolor})\n",
    "\n",
    "\n",
    "if __name__ == \"__main__\":\n",
    "    main()"
   ]
  },
  {
   "cell_type": "code",
   "execution_count": null,
   "metadata": {},
   "outputs": [],
   "source": [
    "# | hide\n",
    "import nbdev\n",
    "\n",
    "nbdev.nbdev_export()"
   ]
  }
 ],
 "metadata": {
  "kernelspec": {
   "display_name": "python3",
   "language": "python",
   "name": "python3"
  }
 },
 "nbformat": 4,
 "nbformat_minor": 4
}
